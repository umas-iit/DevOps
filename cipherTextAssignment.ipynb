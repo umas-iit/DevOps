{
  "nbformat": 4,
  "nbformat_minor": 0,
  "metadata": {
    "kernelspec": {
      "display_name": "Python 3",
      "language": "python",
      "name": "python3"
    },
    "language_info": {
      "codemirror_mode": {
        "name": "ipython",
        "version": 3
      },
      "file_extension": ".py",
      "mimetype": "text/x-python",
      "name": "python",
      "nbconvert_exporter": "python",
      "pygments_lexer": "ipython3",
      "version": "3.7.6"
    },
    "colab": {
      "name": "cipherTextAssignment.ipynb",
      "provenance": [],
      "include_colab_link": true
    }
  },
  "cells": [
    {
      "cell_type": "markdown",
      "metadata": {
        "id": "view-in-github",
        "colab_type": "text"
      },
      "source": [
        "<a href=\"https://colab.research.google.com/github/umas-iit/DevOps/blob/master/cipherTextAssignment.ipynb\" target=\"_parent\"><img src=\"https://colab.research.google.com/assets/colab-badge.svg\" alt=\"Open In Colab\"/></a>"
      ]
    },
    {
      "cell_type": "markdown",
      "metadata": {
        "id": "yfumGwRL4L7R"
      },
      "source": [
        "# msg encryption and decryption program"
      ]
    },
    {
      "cell_type": "code",
      "metadata": {
        "id": "vh6zlN704L7S"
      },
      "source": [
        "\n",
        "msg1 = []\n",
        "msg1 = \"This is Test\""
      ],
      "execution_count": null,
      "outputs": []
    },
    {
      "cell_type": "code",
      "metadata": {
        "id": "DDnfUAr64L7T"
      },
      "source": [
        "import string"
      ],
      "execution_count": null,
      "outputs": []
    },
    {
      "cell_type": "code",
      "metadata": {
        "id": "njv4-qto4L7U"
      },
      "source": [
        "encryptedKey = 6 # encrypted key is 3"
      ],
      "execution_count": null,
      "outputs": []
    },
    {
      "cell_type": "markdown",
      "metadata": {
        "id": "hqw-xkPq4L7V"
      },
      "source": [
        "# 1. Processing  tasks. Remove Blank spaces"
      ]
    },
    {
      "cell_type": "code",
      "metadata": {
        "id": "VEXw24lm4L7V"
      },
      "source": [
        "def textProcessing(msg):\n",
        "    msg = msg.replace(\" \", \"\")\n",
        "    msg = msg.lower()\n",
        "    return msg"
      ],
      "execution_count": null,
      "outputs": []
    },
    {
      "cell_type": "markdown",
      "metadata": {
        "id": "rBfPZAJJ4L7V"
      },
      "source": [
        "# 2. Encryption tasks : Convert letter to Number, Add key,Convert to Letter"
      ]
    },
    {
      "cell_type": "code",
      "metadata": {
        "id": "-DSyD-j_4L7X"
      },
      "source": [
        "def lettersOfPlaintext(msg): # define \n",
        "    letters = []         # initilise list \n",
        "    for i in range(0,len(msg)):     # append the letters to the letters List\n",
        "        letters.append(msg[i])\n",
        "    return letters"
      ],
      "execution_count": null,
      "outputs": []
    },
    {
      "cell_type": "code",
      "metadata": {
        "id": "rfqXzqA64L7Y"
      },
      "source": [
        "def letterToNumber(letter):  # convert to letter\n",
        "    return string.ascii_lowercase.index(letter)\n",
        "def numberToLetter(number):     \n",
        "    return chr(int(number)+97)  # convert to number"
      ],
      "execution_count": null,
      "outputs": []
    },
    {
      "cell_type": "code",
      "metadata": {
        "id": "k0sBMMyn4L7Z"
      },
      "source": [
        "def numcodeCheck(num_code):\n",
        "    if num_code < 0:             #convert not readable characters to readable form\n",
        "        num_code = number_code + 26\n",
        "    elif num_code > 25:\n",
        "        num_code = num_code % 26\n",
        "    return num_code"
      ],
      "execution_count": null,
      "outputs": []
    },
    {
      "cell_type": "code",
      "metadata": {
        "id": "F8Fj5utC4L7Z"
      },
      "source": [
        "processedText=textProcessing(msg1)"
      ],
      "execution_count": null,
      "outputs": []
    },
    {
      "cell_type": "code",
      "metadata": {
        "id": "KJ91eOUM4L7a"
      },
      "source": [
        "letters = lettersOfPlaintext(processedText)"
      ],
      "execution_count": null,
      "outputs": []
    },
    {
      "cell_type": "code",
      "metadata": {
        "id": "sFgFRzxO4L7a",
        "outputId": "31cb1702-e841-4cc7-932c-65c175cd7f61"
      },
      "source": [
        "print(letters)   #print the message. Encryption will be applied to all the letters"
      ],
      "execution_count": null,
      "outputs": [
        {
          "output_type": "stream",
          "text": [
            "['t', 'h', 'i', 's', 'i', 's', 't', 'e', 's', 't']\n"
          ],
          "name": "stdout"
        }
      ]
    },
    {
      "cell_type": "markdown",
      "metadata": {
        "id": "gMjslwdT4L7b"
      },
      "source": [
        "# convert all the letters to numbers. "
      ]
    },
    {
      "cell_type": "code",
      "metadata": {
        "id": "mJyZuN3-4L7c"
      },
      "source": [
        "# string.ascii_lowercase  # print string value"
      ],
      "execution_count": null,
      "outputs": []
    },
    {
      "cell_type": "code",
      "metadata": {
        "id": "xark8L-I4L7c"
      },
      "source": [
        "# for letter in letters:\n",
        "# print(letterToNumber(letter))  print converted letters to interer value"
      ],
      "execution_count": null,
      "outputs": []
    },
    {
      "cell_type": "code",
      "metadata": {
        "id": "7D1gybOU4L7d"
      },
      "source": [
        "# print(letterToNumber(letter) + encryptedKey)  # encrypted with key value "
      ],
      "execution_count": null,
      "outputs": []
    },
    {
      "cell_type": "code",
      "metadata": {
        "id": "KrxItGV-4L7d"
      },
      "source": [
        "# print(numberToLetter(letterToNumber(letter) + encryptedKey)) # create cipher text"
      ],
      "execution_count": null,
      "outputs": []
    },
    {
      "cell_type": "code",
      "metadata": {
        "id": "HKXSUPXn4L7e"
      },
      "source": [
        "cipherText = []\n",
        "for letter in letters:\n",
        "    cipherText.append(numberToLetter(letterToNumber(letter) + encryptedKey)) # store the cipher text in cipherText list "
      ],
      "execution_count": null,
      "outputs": []
    },
    {
      "cell_type": "code",
      "metadata": {
        "id": "QcvCSuxR4L7e",
        "outputId": "f1eac137-1cf0-4272-938c-4c70cad96864"
      },
      "source": [
        "cipherText   # Create Cipher Test"
      ],
      "execution_count": null,
      "outputs": [
        {
          "output_type": "execute_result",
          "data": {
            "text/plain": [
              "['z', 'n', 'o', 'y', 'o', 'y', 'z', 'k', 'y', 'z']"
            ]
          },
          "metadata": {
            "tags": []
          },
          "execution_count": 16
        }
      ]
    },
    {
      "cell_type": "markdown",
      "metadata": {
        "id": "r2lWtMT64L7f"
      },
      "source": [
        "# 3. Decryption :  convert to original message"
      ]
    },
    {
      "cell_type": "code",
      "metadata": {
        "id": "wmozmiWM4L7f"
      },
      "source": [
        "#for cipher in cipherText :\n",
        "# print(cipher)"
      ],
      "execution_count": null,
      "outputs": []
    },
    {
      "cell_type": "code",
      "metadata": {
        "id": "dMdv4vp74L7g"
      },
      "source": [
        "decodedMsg=[]\n",
        "for cipher in cipherText:\n",
        "    decodedMsg.append(numberToLetter(letterToNumber(cipher) - encryptedKey))    "
      ],
      "execution_count": null,
      "outputs": []
    },
    {
      "cell_type": "code",
      "metadata": {
        "id": "WrVBInao4L7g",
        "outputId": "eaeb46ab-a427-4115-f268-044db885c636"
      },
      "source": [
        "print(decodedMsg) # print decoded mesage"
      ],
      "execution_count": null,
      "outputs": [
        {
          "output_type": "stream",
          "text": [
            "['t', 'h', 'i', 's', 'i', 's', 't', 'e', 's', 't']\n"
          ],
          "name": "stdout"
        }
      ]
    },
    {
      "cell_type": "markdown",
      "metadata": {
        "id": "C0noVeQA4L7h"
      },
      "source": [
        "# 4. Attackers program"
      ]
    },
    {
      "cell_type": "code",
      "metadata": {
        "id": "no-gyHpl4L7i",
        "outputId": "a0acfc7e-6481-4ad0-92e7-415864e2b371"
      },
      "source": [
        "for encryptedKey in range(0,26):\n",
        "    attackerdecodedMsg = [] \n",
        "    for cipher in cipherText:\n",
        "        number_code = letterToNumber(cipher) - encryptedKey\n",
        "        numbercode = numcodeCheck(number_code)\n",
        "        attackerdecodedMsg.append(numberToLetter(numbercode))\n",
        "    print(attackerdecodedMsg)"
      ],
      "execution_count": null,
      "outputs": [
        {
          "output_type": "stream",
          "text": [
            "['z', 'n', 'o', 'y', 'o', 'y', 'z', 'k', 'y', 'z']\n",
            "['y', 'm', 'n', 'x', 'n', 'x', 'y', 'j', 'x', 'y']\n",
            "['x', 'l', 'm', 'w', 'm', 'w', 'x', 'i', 'w', 'x']\n",
            "['w', 'k', 'l', 'v', 'l', 'v', 'w', 'h', 'v', 'w']\n",
            "['v', 'j', 'k', 'u', 'k', 'u', 'v', 'g', 'u', 'v']\n",
            "['u', 'i', 'j', 't', 'j', 't', 'u', 'f', 't', 'u']\n",
            "['t', 'h', 'i', 's', 'i', 's', 't', 'e', 's', 't']\n",
            "['s', 'g', 'h', 'r', 'h', 'r', 's', 'd', 'r', 's']\n",
            "['r', 'f', 'g', 'q', 'g', 'q', 'r', 'c', 'q', 'r']\n",
            "['q', 'e', 'f', 'p', 'f', 'p', 'q', 'b', 'p', 'q']\n",
            "['p', 'd', 'e', 'o', 'e', 'o', 'p', 'a', 'o', 'p']\n",
            "['o', 'c', 'd', 'n', 'd', 'n', 'o', 'z', 'n', 'o']\n",
            "['n', 'b', 'c', 'm', 'c', 'm', 'n', 'y', 'm', 'n']\n",
            "['m', 'a', 'b', 'l', 'b', 'l', 'm', 'x', 'l', 'm']\n",
            "['l', 'z', 'a', 'k', 'a', 'k', 'l', 'w', 'k', 'l']\n",
            "['k', 'y', 'z', 'j', 'z', 'j', 'k', 'v', 'j', 'k']\n",
            "['j', 'x', 'y', 'i', 'y', 'i', 'j', 'u', 'i', 'j']\n",
            "['i', 'w', 'x', 'h', 'x', 'h', 'i', 't', 'h', 'i']\n",
            "['h', 'v', 'w', 'g', 'w', 'g', 'h', 's', 'g', 'h']\n",
            "['g', 'u', 'v', 'f', 'v', 'f', 'g', 'r', 'f', 'g']\n",
            "['f', 't', 'u', 'e', 'u', 'e', 'f', 'q', 'e', 'f']\n",
            "['e', 's', 't', 'd', 't', 'd', 'e', 'p', 'd', 'e']\n",
            "['d', 'r', 's', 'c', 's', 'c', 'd', 'o', 'c', 'd']\n",
            "['c', 'q', 'r', 'b', 'r', 'b', 'c', 'n', 'b', 'c']\n",
            "['b', 'p', 'q', 'a', 'q', 'a', 'b', 'm', 'a', 'b']\n",
            "['a', 'o', 'p', 'z', 'p', 'z', 'a', 'l', 'z', 'a']\n"
          ],
          "name": "stdout"
        }
      ]
    },
    {
      "cell_type": "code",
      "metadata": {
        "id": "RZjeC6XW4L7i"
      },
      "source": [
        ""
      ],
      "execution_count": null,
      "outputs": []
    },
    {
      "cell_type": "code",
      "metadata": {
        "id": "rqpOLMUU4L7j"
      },
      "source": [
        ""
      ],
      "execution_count": null,
      "outputs": []
    },
    {
      "cell_type": "code",
      "metadata": {
        "id": "xetQiTuu4L7j"
      },
      "source": [
        ""
      ],
      "execution_count": null,
      "outputs": []
    },
    {
      "cell_type": "code",
      "metadata": {
        "id": "HFNKkj184L7j"
      },
      "source": [
        ""
      ],
      "execution_count": null,
      "outputs": []
    },
    {
      "cell_type": "code",
      "metadata": {
        "id": "r0JBZZQR4L7j"
      },
      "source": [
        ""
      ],
      "execution_count": null,
      "outputs": []
    },
    {
      "cell_type": "code",
      "metadata": {
        "id": "TD6PwJg34L7k"
      },
      "source": [
        ""
      ],
      "execution_count": null,
      "outputs": []
    },
    {
      "cell_type": "code",
      "metadata": {
        "id": "xSAoT3WL4L7k"
      },
      "source": [
        ""
      ],
      "execution_count": null,
      "outputs": []
    }
  ]
}