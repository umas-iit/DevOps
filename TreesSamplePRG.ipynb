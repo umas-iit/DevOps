{
  "nbformat": 4,
  "nbformat_minor": 0,
  "metadata": {
    "colab": {
      "name": "Untitled1.ipynb",
      "provenance": [],
      "authorship_tag": "ABX9TyOco00MAYpvSCKxzSNDacnJ",
      "include_colab_link": true
    },
    "kernelspec": {
      "name": "python3",
      "display_name": "Python 3"
    },
    "language_info": {
      "name": "python"
    }
  },
  "cells": [
    {
      "cell_type": "markdown",
      "metadata": {
        "id": "view-in-github",
        "colab_type": "text"
      },
      "source": [
        "<a href=\"https://colab.research.google.com/github/umas-iit/DevOps/blob/master/TreesSamplePRG.ipynb\" target=\"_parent\"><img src=\"https://colab.research.google.com/assets/colab-badge.svg\" alt=\"Open In Colab\"/></a>"
      ]
    },
    {
      "cell_type": "code",
      "metadata": {
        "id": "N4yPQPgjAHhT"
      },
      "source": [
        "class Node():\n",
        "    def __init__(self,data) :\n",
        "            self.data = data  \n",
        "            self.left = None\n",
        "            self.right = None   \n",
        "def height(node): \n",
        "        if node is None: \n",
        "             return 0 \n",
        "        else : \n",
        "        # Compute the height of each subtree  \n",
        "        lheight = height(node.left) \n",
        "        rheight = height(node.right) \n",
        "        #Use the larger one \n",
        "        if lheight > rheight : \n",
        "            return lheight+1\n",
        "        else: \n",
        "            return rheight+1  \n",
        "def printCurrentLevel(root , level): \n",
        "        if root is None: \n",
        "            return\n",
        "        if level == 1: \n",
        "            print \"%d\" %(root.data), \n",
        "        elif level > 1 : \n",
        "            printCurrentLevel(root.left , level-1) \n",
        "            printCurrentLevel(root.right , level-1)         \n",
        "def printBredthOrder(root): \n",
        "    ht = height(root) \n",
        "    for i in range(1, ht+1): \n",
        "        printCurrentLevel(root, i) \n",
        "# Print nodes at a given level \n",
        " "
      ],
      "execution_count": null,
      "outputs": []
    }
  ]
}